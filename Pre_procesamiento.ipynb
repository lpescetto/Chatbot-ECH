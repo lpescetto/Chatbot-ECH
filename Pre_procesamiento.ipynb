{
  "cells": [
    {
      "cell_type": "code",
      "execution_count": 2,
      "metadata": {
        "id": "FWbhUrDWieRt"
      },
      "outputs": [],
      "source": [
        "import numpy as np\n",
        "import pandas as pd\n",
        "from openai import AzureOpenAI\n",
        "import json\n",
        "from dotenv import load_dotenv\n",
        "import os"
      ]
    },
    {
      "cell_type": "code",
      "execution_count": 3,
      "metadata": {
        "id": "gDVHenCKi4Dd"
      },
      "outputs": [],
      "source": [
        "azure_openai_api_version = os.getenv('AZURE_OPENAI_API_VERSION')\n",
        "azure_openai_endpoint = os.getenv('AZURE_OPENAI_ENDPOINT')\n",
        "azure_openai_key = os.getenv('AZURE_OPENAI_KEY')\n",
        "\n",
        "client = AzureOpenAI(\n",
        "    api_version=azure_openai_api_version,\n",
        "    azure_endpoint=azure_openai_endpoint,\n",
        "    api_key=azure_openai_key\n",
        ")"
      ]
    },
    {
      "cell_type": "code",
      "execution_count": 5,
      "metadata": {
        "id": "c5B3mFC_jdvZ"
      },
      "outputs": [],
      "source": [
        "# Cargar el archivo JSON\n",
        "file_path = 'json_ech.json'\n",
        "with open(file_path, 'r', encoding='utf-8') as f:\n",
        "    data = json.load(f)\n",
        "\n",
        "# Extraer la información de las variables\n",
        "variables_info = []\n",
        "for variable in data['codeBook']['dataDscr']['var']:\n",
        "    # ID para cada pregunta\n",
        "    ID = variable.get(\"_ID\")\n",
        "\n",
        "    # nombre de las variables\n",
        "    var_name = variable.get('_name', 'N/A')\n",
        "\n",
        "    # Verificar si existe la pregunta y manejar los diferentes tipos (str o dict)\n",
        "    var_question = variable.get('qstn', {}).get('qstnLit', 'No question text')\n",
        "    if isinstance(var_question, dict):  # Si es un diccionario, intentamos extraer el texto\n",
        "        var_question = var_question.get('__cdata', 'No question text')\n",
        "\n",
        "    # Guardar la información de la variable\n",
        "    var_info = {\n",
        "        'ID': ID,\n",
        "        'Variable Name': var_name,\n",
        "        'Question': var_question\n",
        "    }\n",
        "    variables_info.append(var_info)\n",
        "\n",
        "# Extraemos las preguntas/variables\n",
        "Question = [item['Question'] for item in variables_info]\n",
        "\n",
        "# Generamos embeddings para las preguntas/variables\n",
        "content_response = client.embeddings.create(\n",
        "    input=Question,\n",
        "    model=\"text-embedding-3-small\",\n",
        "    dimensions=1536\n",
        ")\n",
        "content_embeddings = [item.embedding for item in content_response.data]\n",
        "\n",
        "# Asignamos los embeddings a cada elemento\n",
        "for i, item in enumerate(variables_info):\n",
        "    item['Question_vector'] = content_embeddings[i]\n",
        "\n",
        "with open('variables_ech_emb.json', 'w', encoding='utf-8') as outfile:\n",
        "    json.dump(variables_info, outfile, ensure_ascii=False, indent=4)"
      ]
    }
  ],
  "metadata": {
    "colab": {
      "provenance": []
    },
    "kernelspec": {
      "display_name": "Python 3",
      "name": "python3"
    },
    "language_info": {
      "codemirror_mode": {
        "name": "ipython",
        "version": 3
      },
      "file_extension": ".py",
      "mimetype": "text/x-python",
      "name": "python",
      "nbconvert_exporter": "python",
      "pygments_lexer": "ipython3",
      "version": "3.11.9"
    }
  },
  "nbformat": 4,
  "nbformat_minor": 0
}
